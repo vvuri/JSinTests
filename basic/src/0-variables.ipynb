{
 "cells": [
  {
   "cell_type": "markdown",
   "metadata": {},
   "source": [
    "## Объявление переменных"
   ]
  },
  {
   "cell_type": "markdown",
   "metadata": {},
   "source": [
    "W3schools рекомендует исользование camelCase стиля"
   ]
  },
  {
   "cell_type": "code",
   "execution_count": 1,
   "metadata": {},
   "outputs": [
    {
     "data": {
      "text/plain": [
       "23.88"
      ]
     },
     "execution_count": 1,
     "metadata": {},
     "output_type": "execute_result"
    }
   ],
   "source": [
    "firstName = \"John\";\n",
    "lastName = \"Doe\";\n",
    "\n",
    "price = 19.90;\n",
    "tax = 0.20;\n",
    "\n",
    "fullPrice = price + (price * tax);"
   ]
  },
  {
   "cell_type": "code",
   "execution_count": 2,
   "metadata": {},
   "outputs": [
    {
     "name": "stdout",
     "output_type": "stream",
     "text": [
      "19.9\n",
      "0.2\n"
     ]
    }
   ],
   "source": [
    "console.log(price);\n",
    "console.dir(tax)"
   ]
  },
  {
   "cell_type": "code",
   "execution_count": null,
   "metadata": {},
   "outputs": [],
   "source": []
  }
 ],
 "metadata": {
  "kernelspec": {
   "display_name": "Javascript (Node.js)",
   "language": "javascript",
   "name": "javascript"
  },
  "language_info": {
   "file_extension": ".js",
   "mimetype": "application/javascript",
   "name": "javascript",
   "version": "9.5.0"
  }
 },
 "nbformat": 4,
 "nbformat_minor": 2
}
