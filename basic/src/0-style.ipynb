{
 "cells": [
  {
   "cell_type": "markdown",
   "metadata": {},
   "source": [
    "## Стиль оформления кода"
   ]
  },
  {
   "cell_type": "markdown",
   "metadata": {},
   "source": [
    "- *CamelCase* style\n",
    "- Имя переменной - существительно \n",
    "- Имя функции - глагол\n",
    "- функция идет под котодм ее использующим"
   ]
  },
  {
   "cell_type": "code",
   "execution_count": 1,
   "metadata": {},
   "outputs": [],
   "source": [
    "function pow(x, n) {\n",
    "// пробел при перечислении и перед скобокй\n",
    "  var result = 1;  \n",
    "// два пробела отступ, пробелы до и после присвоения, точка с запятой в конце    \n",
    "// пробелы при } else {\n",
    "  alert( pow(x. n) ); \n",
    "// пробелы перед и после вложенного вызова\n",
    "  alert('Text');\n",
    "// длина строки 80 символов, max 120\n",
    "}"
   ]
  },
  {
   "cell_type": "code",
   "execution_count": 2,
   "metadata": {},
   "outputs": [],
   "source": [
    "/**\n",
    " * Что делать\n",
    " * Что возвращать\n",
    " */\n",
    "function powret(x, n) {}"
   ]
  },
  {
   "cell_type": "code",
   "execution_count": null,
   "metadata": {},
   "outputs": [],
   "source": []
  }
 ],
 "metadata": {
  "kernelspec": {
   "display_name": "Javascript (Node.js)",
   "language": "javascript",
   "name": "javascript"
  },
  "language_info": {
   "file_extension": ".js",
   "mimetype": "application/javascript",
   "name": "javascript",
   "version": "9.5.0"
  }
 },
 "nbformat": 4,
 "nbformat_minor": 2
}
